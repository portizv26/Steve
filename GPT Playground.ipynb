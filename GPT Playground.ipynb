{
 "cells": [
  {
   "attachments": {},
   "cell_type": "markdown",
   "metadata": {},
   "source": [
    "# Playground CHATGPT\n",
    "Author : Patricio Ortiz"
   ]
  },
  {
   "attachments": {},
   "cell_type": "markdown",
   "metadata": {},
   "source": [
    "The main idea of this notebook is to handle the data of some experiments, and be able to work with them in order to get a CHATGPT response with the diagnosis and the actions proposed to the client."
   ]
  },
  {
   "attachments": {},
   "cell_type": "markdown",
   "metadata": {},
   "source": [
    "## Libraries"
   ]
  },
  {
   "cell_type": "code",
   "execution_count": 3,
   "metadata": {},
   "outputs": [],
   "source": [
    "import pandas as pd\n",
    "import numpy as np\n",
    "import openai\n",
    "import os\n",
    "\n",
    "from aux_functions import *\n",
    "\n",
    "openai.api_key = os.getenv(\"OPENAI_API_KEY\")"
   ]
  },
  {
   "attachments": {},
   "cell_type": "markdown",
   "metadata": {},
   "source": [
    "## Data"
   ]
  },
  {
   "cell_type": "code",
   "execution_count": 4,
   "metadata": {},
   "outputs": [],
   "source": [
    "df_val = pd.read_csv('datos procesados/valores.csv')\n",
    "dfi = pd.read_csv('datos procesados/componentes.csv', low_memory=False)\n",
    "df2 = pd.read_csv('datos procesados/valores_raw.csv', low_memory=False)"
   ]
  },
  {
   "attachments": {},
   "cell_type": "markdown",
   "metadata": {},
   "source": [
    "## Playground"
   ]
  },
  {
   "cell_type": "code",
   "execution_count": 20,
   "metadata": {},
   "outputs": [],
   "source": [
    "l = []\n",
    "ids = dfi.iloc[37850:37855,0].values.tolist()\n",
    "\n",
    "for i in ids:\n",
    "  c = generate_comment(i)\n",
    "  t1 = c[0]\n",
    "  t2 = c[1]\n",
    "  t = (t1, t2)\n",
    "  \n",
    "  l.append(t)"
   ]
  },
  {
   "cell_type": "code",
   "execution_count": 30,
   "metadata": {},
   "outputs": [
    {
     "ename": "IndexError",
     "evalue": "list index out of range",
     "output_type": "error",
     "traceback": [
      "\u001b[1;31m---------------------------------------------------------------------------\u001b[0m",
      "\u001b[1;31mIndexError\u001b[0m                                Traceback (most recent call last)",
      "Cell \u001b[1;32mIn[30], line 4\u001b[0m\n\u001b[0;32m      1\u001b[0m i \u001b[39m=\u001b[39m \u001b[39m5\u001b[39m\n\u001b[1;32m----> 4\u001b[0m \u001b[39mprint\u001b[39m(ids[i])\n\u001b[0;32m      5\u001b[0m \u001b[39mprint\u001b[39m(\u001b[39m'\u001b[39m\u001b[39m\\n\u001b[39;00m\u001b[39m'\u001b[39m)\n\u001b[0;32m      6\u001b[0m t3 \u001b[39m=\u001b[39m df2[df2\u001b[39m.\u001b[39mid_sample \u001b[39m==\u001b[39m ids[i]]\n",
      "\u001b[1;31mIndexError\u001b[0m: list index out of range"
     ]
    }
   ],
   "source": [
    "i = 5\n",
    "\n",
    "\n",
    "print(ids[i])\n",
    "print('\\n')\n",
    "t3 = df2[df2.id_sample == ids[i]]\n",
    "display(t3)\n",
    "print('\\n')\n",
    "t4 = dfi[dfi.id_sample == ids[i]][['name_component','name_component_brand','name_component_model','name_component_type','name_machine','name_machine_type','name_machine_brand','name_machine_model']]\n",
    "display(t4.dropna(axis=1))\n",
    "print('\\n')\n",
    "k = l[i][1]\n",
    "print(l[i][1])\n",
    "print('\\n')\n",
    "print(l[i][0])\n",
    "print('\\n')\n"
   ]
  },
  {
   "cell_type": "code",
   "execution_count": 23,
   "metadata": {},
   "outputs": [
    {
     "data": {
      "text/plain": [
       "'name_component name_component_brand name_component_model name_component_type       name_machine  name_machine_type name_machine_brand name_machine_model\\n  MOTOR DIESEL                  NaN                  NaN        MOTOR DIESEL PERFORADORA D - 06 FLOTA PERFORADORAS        ATLAS COPCO                NaN'"
      ]
     },
     "execution_count": 23,
     "metadata": {},
     "output_type": "execute_result"
    }
   ],
   "source": [
    "t4.to_string(index=False)"
   ]
  }
 ],
 "metadata": {
  "kernelspec": {
   "display_name": "Steve",
   "language": "python",
   "name": "python3"
  },
  "language_info": {
   "codemirror_mode": {
    "name": "ipython",
    "version": 3
   },
   "file_extension": ".py",
   "mimetype": "text/x-python",
   "name": "python",
   "nbconvert_exporter": "python",
   "pygments_lexer": "ipython3",
   "version": "3.10.11"
  },
  "orig_nbformat": 4
 },
 "nbformat": 4,
 "nbformat_minor": 2
}
